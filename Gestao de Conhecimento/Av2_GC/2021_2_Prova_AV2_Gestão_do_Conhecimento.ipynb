{
  "nbformat": 4,
  "nbformat_minor": 0,
  "metadata": {
    "colab": {
      "name": " 2021_2_Prova_AV2_Gestão_do_Conhecimento.ipynb",
      "provenance": [],
      "collapsed_sections": []
    },
    "kernelspec": {
      "name": "python3",
      "display_name": "Python 3"
    },
    "language_info": {
      "name": "python"
    }
  },
  "cells": [
    {
      "cell_type": "markdown",
      "metadata": {
        "id": "8e6IcCsJCxVz"
      },
      "source": [
        "DISCIPLINA: Gestão do Conhecimento\t PROFESSOR(A): Alex Salgado\n",
        "PERÍODO: 7o. TURNO: noite AVALIAÇÃO:\n",
        "\n",
        "ALUNO(A): Eduardo Fonseca Lima\n",
        "\n",
        "GRAU: VISTO DO PROFESSOR:\n"
      ]
    },
    {
      "cell_type": "markdown",
      "metadata": {
        "id": "_3h1pahVCxV2"
      },
      "source": [
        "# Questão 1 - valor (0,0)\n"
      ]
    },
    {
      "cell_type": "markdown",
      "metadata": {
        "id": "A-cj5d2rCxV3"
      },
      "source": [
        "*** Crie um repositório no Github e adicione este arquivo no mesmo\n",
        "\n",
        "\n",
        "1.1 - Você deve escolher uma base de dados do Kaggle.\n",
        "\n",
        "A natureza desse dataset deve se encaixar em um problema que podemos resolver utilizando modelos de previsão de machine learning supervisionado de classificação. \n",
        "\n",
        "A partir desta base de dados do Kaggle, você vai treinar o modelo, fazer previsões e calcular a acurácia do mesmo, usando modelos e algoritmos que desejar.\n",
        "\n",
        "Obs1: Usar o Kaggle como fonte para o seu dataset obrigatoriamente.\n",
        "Obs2: Implementações idênticas ou bem parecidas pode levar a anulação da NOTA ou seja, ZERO!! Faça o melhor com sua equipe apenas.\n"
      ]
    },
    {
      "cell_type": "code",
      "metadata": {
        "id": "MfhVnNHC52wF"
      },
      "source": [
        ""
      ],
      "execution_count": null,
      "outputs": []
    },
    {
      "cell_type": "markdown",
      "metadata": {
        "id": "3P5uSWxsDb5r"
      },
      "source": [
        "1.1 - Coloque aqui o link para o seu dataset escolhido no Kaggle.\n",
        "\n"
      ]
    },
    {
      "cell_type": "code",
      "metadata": {
        "id": "8pNethDFSp5K"
      },
      "source": [
        "https://www.kaggle.com/fedesoriano/stroke-prediction-dataset"
      ],
      "execution_count": null,
      "outputs": []
    },
    {
      "cell_type": "markdown",
      "metadata": {
        "id": "9ZAK23bp0uiv"
      },
      "source": [
        "1.1.1 - Descreva sobre o que é base de dados."
      ]
    },
    {
      "cell_type": "markdown",
      "metadata": {
        "id": "tYbG-zv3bh6T"
      },
      "source": [
        "Essa base de dados é usada para prever se um paciente tem probabilidade de desenvolver AVC com base em alguns parâmetros de entrada pré-definidos no dataset"
      ]
    },
    {
      "cell_type": "markdown",
      "metadata": {
        "id": "PikuHGzs0xrS"
      },
      "source": [
        "1.1.2 - Se você fez em grupo, quais os nomes dos componentes do seu grupo?"
      ]
    },
    {
      "cell_type": "code",
      "metadata": {
        "id": "CWD182zJCxV4"
      },
      "source": [
        ""
      ],
      "execution_count": 1,
      "outputs": []
    },
    {
      "cell_type": "markdown",
      "metadata": {
        "id": "a-D7KRIzCxV8"
      },
      "source": [
        "1.2 - Após tratada, criar uma pasta no seu GoogleDrive e disponibilizar o link do arquivo de sua base (csv, xlsx, etc) para ser importado no seu código."
      ]
    },
    {
      "cell_type": "code",
      "metadata": {
        "id": "lT8fVn5TCxV8"
      },
      "source": [
        "https://drive.google.com/file/d/1gdzMXNZpfUd4dHf_Vh5N1pAQcs3osS02/view?usp=sharing"
      ],
      "execution_count": null,
      "outputs": []
    },
    {
      "cell_type": "markdown",
      "metadata": {
        "id": "lvPXgDBDCxV_"
      },
      "source": [
        "## Criar um código usando o Jupyter Notebook e responder (através de código) às seguintes questões:\n"
      ]
    },
    {
      "cell_type": "markdown",
      "metadata": {
        "id": "LMkAEsOKCxWA"
      },
      "source": [
        "# Questão 2 - valor (1,5)"
      ]
    },
    {
      "cell_type": "markdown",
      "metadata": {
        "id": "yOSNQel0CxWA"
      },
      "source": [
        "2.1 - Importar os modulos python para machine learn e carregar o arquivo \n",
        "\n",
        "** Sugestão se for do tipo xlsx, usar o read_excel do pandas\n",
        "import pandas as pd\n",
        "dt = pd.read_excel(\"meuarquivo.xlsx\")\n"
      ]
    },
    {
      "cell_type": "code",
      "metadata": {
        "id": "zA6l-qg9CxWB"
      },
      "source": [
        "import numpy as np\n",
        "import pandas as pd"
      ],
      "execution_count": 1,
      "outputs": []
    },
    {
      "cell_type": "code",
      "metadata": {
        "id": "JN8X3zgitXEV"
      },
      "source": [
        "arquivo_csv=\"/content/drive/MyDrive/Av2_GC/healthcare-dataset-stroke-data.csv\""
      ],
      "execution_count": 2,
      "outputs": []
    },
    {
      "cell_type": "markdown",
      "metadata": {
        "id": "_NIYxnZnCxWD"
      },
      "source": [
        "2.2 - Exibir os primeiros registros desta tabela.\n"
      ]
    },
    {
      "cell_type": "code",
      "metadata": {
        "id": "owd5CVN9CxWE"
      },
      "source": [
        "df_dataset = pd.read_csv(arquivo_csv)"
      ],
      "execution_count": 3,
      "outputs": []
    },
    {
      "cell_type": "code",
      "metadata": {
        "colab": {
          "base_uri": "https://localhost:8080/",
          "height": 206
        },
        "id": "i4VwLfcWI7_E",
        "outputId": "22f5696a-adf4-4694-ee41-1c830587a4ce"
      },
      "source": [
        "df_dataset.head()"
      ],
      "execution_count": 4,
      "outputs": [
        {
          "output_type": "execute_result",
          "data": {
            "text/html": [
              "<div>\n",
              "<style scoped>\n",
              "    .dataframe tbody tr th:only-of-type {\n",
              "        vertical-align: middle;\n",
              "    }\n",
              "\n",
              "    .dataframe tbody tr th {\n",
              "        vertical-align: top;\n",
              "    }\n",
              "\n",
              "    .dataframe thead th {\n",
              "        text-align: right;\n",
              "    }\n",
              "</style>\n",
              "<table border=\"1\" class=\"dataframe\">\n",
              "  <thead>\n",
              "    <tr style=\"text-align: right;\">\n",
              "      <th></th>\n",
              "      <th>id</th>\n",
              "      <th>gender</th>\n",
              "      <th>age</th>\n",
              "      <th>hypertension</th>\n",
              "      <th>heart_disease</th>\n",
              "      <th>ever_married</th>\n",
              "      <th>work_type</th>\n",
              "      <th>Residence_type</th>\n",
              "      <th>avg_glucose_level</th>\n",
              "      <th>bmi</th>\n",
              "      <th>smoking_status</th>\n",
              "      <th>stroke</th>\n",
              "    </tr>\n",
              "  </thead>\n",
              "  <tbody>\n",
              "    <tr>\n",
              "      <th>0</th>\n",
              "      <td>9046</td>\n",
              "      <td>Male</td>\n",
              "      <td>67.0</td>\n",
              "      <td>0</td>\n",
              "      <td>1</td>\n",
              "      <td>Yes</td>\n",
              "      <td>Private</td>\n",
              "      <td>Urban</td>\n",
              "      <td>228.69</td>\n",
              "      <td>36.6</td>\n",
              "      <td>formerly smoked</td>\n",
              "      <td>1</td>\n",
              "    </tr>\n",
              "    <tr>\n",
              "      <th>1</th>\n",
              "      <td>51676</td>\n",
              "      <td>Female</td>\n",
              "      <td>61.0</td>\n",
              "      <td>0</td>\n",
              "      <td>0</td>\n",
              "      <td>Yes</td>\n",
              "      <td>Self-employed</td>\n",
              "      <td>Rural</td>\n",
              "      <td>202.21</td>\n",
              "      <td>NaN</td>\n",
              "      <td>never smoked</td>\n",
              "      <td>1</td>\n",
              "    </tr>\n",
              "    <tr>\n",
              "      <th>2</th>\n",
              "      <td>31112</td>\n",
              "      <td>Male</td>\n",
              "      <td>80.0</td>\n",
              "      <td>0</td>\n",
              "      <td>1</td>\n",
              "      <td>Yes</td>\n",
              "      <td>Private</td>\n",
              "      <td>Rural</td>\n",
              "      <td>105.92</td>\n",
              "      <td>32.5</td>\n",
              "      <td>never smoked</td>\n",
              "      <td>1</td>\n",
              "    </tr>\n",
              "    <tr>\n",
              "      <th>3</th>\n",
              "      <td>60182</td>\n",
              "      <td>Female</td>\n",
              "      <td>49.0</td>\n",
              "      <td>0</td>\n",
              "      <td>0</td>\n",
              "      <td>Yes</td>\n",
              "      <td>Private</td>\n",
              "      <td>Urban</td>\n",
              "      <td>171.23</td>\n",
              "      <td>34.4</td>\n",
              "      <td>smokes</td>\n",
              "      <td>1</td>\n",
              "    </tr>\n",
              "    <tr>\n",
              "      <th>4</th>\n",
              "      <td>1665</td>\n",
              "      <td>Female</td>\n",
              "      <td>79.0</td>\n",
              "      <td>1</td>\n",
              "      <td>0</td>\n",
              "      <td>Yes</td>\n",
              "      <td>Self-employed</td>\n",
              "      <td>Rural</td>\n",
              "      <td>174.12</td>\n",
              "      <td>24.0</td>\n",
              "      <td>never smoked</td>\n",
              "      <td>1</td>\n",
              "    </tr>\n",
              "  </tbody>\n",
              "</table>\n",
              "</div>"
            ],
            "text/plain": [
              "      id  gender   age  ...   bmi   smoking_status stroke\n",
              "0   9046    Male  67.0  ...  36.6  formerly smoked      1\n",
              "1  51676  Female  61.0  ...   NaN     never smoked      1\n",
              "2  31112    Male  80.0  ...  32.5     never smoked      1\n",
              "3  60182  Female  49.0  ...  34.4           smokes      1\n",
              "4   1665  Female  79.0  ...  24.0     never smoked      1\n",
              "\n",
              "[5 rows x 12 columns]"
            ]
          },
          "metadata": {},
          "execution_count": 4
        }
      ]
    },
    {
      "cell_type": "markdown",
      "metadata": {
        "id": "ROM2Hy1CCxWG"
      },
      "source": [
        "2.3 - De que se trata esse banco de dados? e que tipo de previsão pode ser feito com ele?\n"
      ]
    },
    {
      "cell_type": "markdown",
      "metadata": {
        "id": "WPEy1I7YbQoa"
      },
      "source": [
        "Com esse banco e as aplicações corretas é possível prever se um paciente tem probabilidade de desenvolver AVC com base nos parâmetros de entrada, como sexo, idade, várias doenças e tabagismo. Cada linha dos dados fornece informações relevantes sobre o paciente."
      ]
    },
    {
      "cell_type": "markdown",
      "metadata": {
        "id": "1lCf85KKCxWJ"
      },
      "source": [
        "# Questão 3 - valor (2,5)\n"
      ]
    },
    {
      "cell_type": "markdown",
      "metadata": {
        "id": "isyZsq2NCxWK"
      },
      "source": [
        "Utilizando as terminologias de Machine Learning(features e observações):\n",
        "\n"
      ]
    },
    {
      "cell_type": "markdown",
      "metadata": {
        "id": "pbuaWyeECxWL"
      },
      "source": [
        "3.1 - Quantas \"features\" têm nessa base de dados?"
      ]
    },
    {
      "cell_type": "code",
      "metadata": {
        "id": "MY5Xwd0gCxWL",
        "colab": {
          "base_uri": "https://localhost:8080/"
        },
        "outputId": "472d6f07-166a-43c0-8fbb-84132869c4dd"
      },
      "source": [
        "df_dataset.shape[1]"
      ],
      "execution_count": 5,
      "outputs": [
        {
          "output_type": "execute_result",
          "data": {
            "text/plain": [
              "12"
            ]
          },
          "metadata": {},
          "execution_count": 5
        }
      ]
    },
    {
      "cell_type": "markdown",
      "metadata": {
        "id": "RtwxkASmCxWN"
      },
      "source": [
        "3.2 - Quantas observações têm nessa base de dados?\n"
      ]
    },
    {
      "cell_type": "code",
      "metadata": {
        "id": "yN1QNvh-CxWO",
        "colab": {
          "base_uri": "https://localhost:8080/"
        },
        "outputId": "2623b480-cae9-4505-fc7c-e1b0e676ca42"
      },
      "source": [
        "df_dataset.shape[0]"
      ],
      "execution_count": 6,
      "outputs": [
        {
          "output_type": "execute_result",
          "data": {
            "text/plain": [
              "5110"
            ]
          },
          "metadata": {},
          "execution_count": 6
        }
      ]
    },
    {
      "cell_type": "markdown",
      "metadata": {
        "id": "pS-uuMlECJNR"
      },
      "source": [
        "Limpando e Organizando os Dados"
      ]
    },
    {
      "cell_type": "code",
      "metadata": {
        "id": "MjwmpQCoCHl3"
      },
      "source": [
        "gender_dic = {'Male': 0, 'Female': 1, 'Other': 2}\n",
        "ever_married_dic = {'No': 0, 'Yes': 1}\n",
        "work_type_dic = {'children': 0, 'Never_worked': 1, 'Govt_job': 2, 'Private': 3, 'Self-employed': 4}\n",
        "residence_type_dic = {'Rural': 0, 'Urban': 1}\n",
        "smoking_status_dic = {'Unknown': 0, 'never smoked': 1, 'formerly smoked':2, 'smokes': 3}\n",
        "\n",
        "df_dataset['gender'] = df_dataset['gender'].map(gender_dic)\n",
        "df_dataset['ever_married'] = df_dataset['ever_married'].map(ever_married_dic)\n",
        "df_dataset['work_type'] = df_dataset['work_type'].map(work_type_dic)\n",
        "df_dataset['Residence_type'] = df_dataset['Residence_type'].map(residence_type_dic)\n",
        "df_dataset['smoking_status'] = df_dataset['smoking_status'].map(smoking_status_dic)"
      ],
      "execution_count": 4,
      "outputs": []
    },
    {
      "cell_type": "code",
      "metadata": {
        "id": "wKRDUfWcCZq5"
      },
      "source": [
        "df_dataset.sort_values(['gender', 'age'], inplace=True)\n",
        "df_dataset.reset_index(drop=True, inplace=True)\n",
        "df_dataset['bmi'].ffill(inplace=True)\n",
        "df_dataset['age'] = df_dataset['age'].apply(lambda x : round(x))"
      ],
      "execution_count": 5,
      "outputs": []
    },
    {
      "cell_type": "markdown",
      "metadata": {
        "id": "tcAYZJP8zlX3"
      },
      "source": [
        "3.3 - Separe o que é entrada (features) do seu dataset na variável X, e exiba."
      ]
    },
    {
      "cell_type": "code",
      "metadata": {
        "id": "dL-W4ghwVt5y"
      },
      "source": [
        "x = df_dataset.drop(columns=['id', 'stroke'])"
      ],
      "execution_count": 6,
      "outputs": []
    },
    {
      "cell_type": "code",
      "metadata": {
        "colab": {
          "base_uri": "https://localhost:8080/",
          "height": 424
        },
        "id": "VYdAM7ImVoEn",
        "outputId": "d02d5f34-37af-49f0-837b-e2b962739113"
      },
      "source": [
        "x"
      ],
      "execution_count": 7,
      "outputs": [
        {
          "output_type": "execute_result",
          "data": {
            "text/html": [
              "<div>\n",
              "<style scoped>\n",
              "    .dataframe tbody tr th:only-of-type {\n",
              "        vertical-align: middle;\n",
              "    }\n",
              "\n",
              "    .dataframe tbody tr th {\n",
              "        vertical-align: top;\n",
              "    }\n",
              "\n",
              "    .dataframe thead th {\n",
              "        text-align: right;\n",
              "    }\n",
              "</style>\n",
              "<table border=\"1\" class=\"dataframe\">\n",
              "  <thead>\n",
              "    <tr style=\"text-align: right;\">\n",
              "      <th></th>\n",
              "      <th>gender</th>\n",
              "      <th>age</th>\n",
              "      <th>hypertension</th>\n",
              "      <th>heart_disease</th>\n",
              "      <th>ever_married</th>\n",
              "      <th>work_type</th>\n",
              "      <th>Residence_type</th>\n",
              "      <th>avg_glucose_level</th>\n",
              "      <th>bmi</th>\n",
              "      <th>smoking_status</th>\n",
              "    </tr>\n",
              "  </thead>\n",
              "  <tbody>\n",
              "    <tr>\n",
              "      <th>0</th>\n",
              "      <td>0</td>\n",
              "      <td>0</td>\n",
              "      <td>0</td>\n",
              "      <td>0</td>\n",
              "      <td>0</td>\n",
              "      <td>0</td>\n",
              "      <td>0</td>\n",
              "      <td>70.33</td>\n",
              "      <td>16.9</td>\n",
              "      <td>0</td>\n",
              "    </tr>\n",
              "    <tr>\n",
              "      <th>1</th>\n",
              "      <td>0</td>\n",
              "      <td>0</td>\n",
              "      <td>0</td>\n",
              "      <td>0</td>\n",
              "      <td>0</td>\n",
              "      <td>0</td>\n",
              "      <td>1</td>\n",
              "      <td>114.71</td>\n",
              "      <td>17.4</td>\n",
              "      <td>0</td>\n",
              "    </tr>\n",
              "    <tr>\n",
              "      <th>2</th>\n",
              "      <td>0</td>\n",
              "      <td>0</td>\n",
              "      <td>0</td>\n",
              "      <td>0</td>\n",
              "      <td>0</td>\n",
              "      <td>0</td>\n",
              "      <td>0</td>\n",
              "      <td>69.79</td>\n",
              "      <td>13.0</td>\n",
              "      <td>0</td>\n",
              "    </tr>\n",
              "    <tr>\n",
              "      <th>3</th>\n",
              "      <td>0</td>\n",
              "      <td>0</td>\n",
              "      <td>0</td>\n",
              "      <td>0</td>\n",
              "      <td>0</td>\n",
              "      <td>0</td>\n",
              "      <td>1</td>\n",
              "      <td>109.52</td>\n",
              "      <td>13.9</td>\n",
              "      <td>0</td>\n",
              "    </tr>\n",
              "    <tr>\n",
              "      <th>4</th>\n",
              "      <td>0</td>\n",
              "      <td>0</td>\n",
              "      <td>0</td>\n",
              "      <td>0</td>\n",
              "      <td>0</td>\n",
              "      <td>0</td>\n",
              "      <td>0</td>\n",
              "      <td>118.87</td>\n",
              "      <td>16.3</td>\n",
              "      <td>0</td>\n",
              "    </tr>\n",
              "    <tr>\n",
              "      <th>...</th>\n",
              "      <td>...</td>\n",
              "      <td>...</td>\n",
              "      <td>...</td>\n",
              "      <td>...</td>\n",
              "      <td>...</td>\n",
              "      <td>...</td>\n",
              "      <td>...</td>\n",
              "      <td>...</td>\n",
              "      <td>...</td>\n",
              "      <td>...</td>\n",
              "    </tr>\n",
              "    <tr>\n",
              "      <th>5105</th>\n",
              "      <td>1</td>\n",
              "      <td>82</td>\n",
              "      <td>1</td>\n",
              "      <td>1</td>\n",
              "      <td>1</td>\n",
              "      <td>4</td>\n",
              "      <td>1</td>\n",
              "      <td>101.56</td>\n",
              "      <td>31.5</td>\n",
              "      <td>1</td>\n",
              "    </tr>\n",
              "    <tr>\n",
              "      <th>5106</th>\n",
              "      <td>1</td>\n",
              "      <td>82</td>\n",
              "      <td>0</td>\n",
              "      <td>0</td>\n",
              "      <td>0</td>\n",
              "      <td>3</td>\n",
              "      <td>0</td>\n",
              "      <td>96.98</td>\n",
              "      <td>21.5</td>\n",
              "      <td>1</td>\n",
              "    </tr>\n",
              "    <tr>\n",
              "      <th>5107</th>\n",
              "      <td>1</td>\n",
              "      <td>82</td>\n",
              "      <td>0</td>\n",
              "      <td>0</td>\n",
              "      <td>1</td>\n",
              "      <td>4</td>\n",
              "      <td>1</td>\n",
              "      <td>113.45</td>\n",
              "      <td>30.3</td>\n",
              "      <td>1</td>\n",
              "    </tr>\n",
              "    <tr>\n",
              "      <th>5108</th>\n",
              "      <td>1</td>\n",
              "      <td>82</td>\n",
              "      <td>0</td>\n",
              "      <td>0</td>\n",
              "      <td>1</td>\n",
              "      <td>4</td>\n",
              "      <td>0</td>\n",
              "      <td>211.58</td>\n",
              "      <td>36.9</td>\n",
              "      <td>1</td>\n",
              "    </tr>\n",
              "    <tr>\n",
              "      <th>5109</th>\n",
              "      <td>2</td>\n",
              "      <td>26</td>\n",
              "      <td>0</td>\n",
              "      <td>0</td>\n",
              "      <td>0</td>\n",
              "      <td>3</td>\n",
              "      <td>0</td>\n",
              "      <td>143.33</td>\n",
              "      <td>22.4</td>\n",
              "      <td>2</td>\n",
              "    </tr>\n",
              "  </tbody>\n",
              "</table>\n",
              "<p>5110 rows × 10 columns</p>\n",
              "</div>"
            ],
            "text/plain": [
              "      gender  age  hypertension  ...  avg_glucose_level   bmi  smoking_status\n",
              "0          0    0             0  ...              70.33  16.9               0\n",
              "1          0    0             0  ...             114.71  17.4               0\n",
              "2          0    0             0  ...              69.79  13.0               0\n",
              "3          0    0             0  ...             109.52  13.9               0\n",
              "4          0    0             0  ...             118.87  16.3               0\n",
              "...      ...  ...           ...  ...                ...   ...             ...\n",
              "5105       1   82             1  ...             101.56  31.5               1\n",
              "5106       1   82             0  ...              96.98  21.5               1\n",
              "5107       1   82             0  ...             113.45  30.3               1\n",
              "5108       1   82             0  ...             211.58  36.9               1\n",
              "5109       2   26             0  ...             143.33  22.4               2\n",
              "\n",
              "[5110 rows x 10 columns]"
            ]
          },
          "metadata": {},
          "execution_count": 7
        }
      ]
    },
    {
      "cell_type": "markdown",
      "metadata": {
        "id": "FkA2G20zzvHX"
      },
      "source": [
        "3.4 - Separe o que é saída (target/resposta) do seu dataset na variável y, e exiba."
      ]
    },
    {
      "cell_type": "code",
      "metadata": {
        "id": "scWmkISnzj3i"
      },
      "source": [
        "y = df_dataset['stroke']"
      ],
      "execution_count": 8,
      "outputs": []
    },
    {
      "cell_type": "code",
      "metadata": {
        "colab": {
          "base_uri": "https://localhost:8080/"
        },
        "id": "qvqOFt_FUiTN",
        "outputId": "d0595a1c-da0b-44d0-9c87-3ae697b9a5a8"
      },
      "source": [
        "y"
      ],
      "execution_count": 9,
      "outputs": [
        {
          "output_type": "execute_result",
          "data": {
            "text/plain": [
              "0       0\n",
              "1       0\n",
              "2       0\n",
              "3       0\n",
              "4       0\n",
              "       ..\n",
              "5105    0\n",
              "5106    0\n",
              "5107    0\n",
              "5108    0\n",
              "5109    0\n",
              "Name: stroke, Length: 5110, dtype: int64"
            ]
          },
          "metadata": {},
          "execution_count": 9
        }
      ]
    },
    {
      "cell_type": "markdown",
      "metadata": {
        "id": "AudYWfr1CxWQ"
      },
      "source": [
        "# Questão 4 - valor (1,5)\n"
      ]
    },
    {
      "cell_type": "markdown",
      "metadata": {
        "id": "pJxRMc1HCxWR"
      },
      "source": [
        "4.1 - Utilizando a sua base, faça um treinamento e uma previsão, usando o algoritmo de clsssificação de sua escolha.\n"
      ]
    },
    {
      "cell_type": "code",
      "metadata": {
        "id": "7OpjjgZiKmRW"
      },
      "source": [
        "from sklearn.neighbors import KNeighborsClassifier"
      ],
      "execution_count": 10,
      "outputs": []
    },
    {
      "cell_type": "code",
      "metadata": {
        "id": "d34KYGkZ-JYI"
      },
      "source": [
        "knn = KNeighborsClassifier(n_neighbors=1)"
      ],
      "execution_count": 11,
      "outputs": []
    },
    {
      "cell_type": "code",
      "metadata": {
        "colab": {
          "base_uri": "https://localhost:8080/"
        },
        "id": "EgJ6HZZw6SRe",
        "outputId": "daad4353-ced6-427c-cc87-ddf6b17a955c"
      },
      "source": [
        "knn.fit(x,y)"
      ],
      "execution_count": 12,
      "outputs": [
        {
          "output_type": "execute_result",
          "data": {
            "text/plain": [
              "KNeighborsClassifier(n_neighbors=1)"
            ]
          },
          "metadata": {},
          "execution_count": 12
        }
      ]
    },
    {
      "cell_type": "markdown",
      "metadata": {
        "id": "xbpLvAhTCxWU"
      },
      "source": [
        "# Questão 5 - valor (1,5)\n",
        "\n",
        "\n",
        "\n"
      ]
    },
    {
      "cell_type": "code",
      "metadata": {
        "id": "0r7i8IsFxoQp"
      },
      "source": [
        "Random Forest e Logistic Regression"
      ],
      "execution_count": null,
      "outputs": []
    },
    {
      "cell_type": "markdown",
      "metadata": {
        "id": "cp4fWsL7CxWU"
      },
      "source": [
        "Usando o método de avaliação de acurácia (Train test split), Escolha outros 2 algoritmos de classificação e calcule a acurácia dos mesmos."
      ]
    },
    {
      "cell_type": "markdown",
      "metadata": {
        "id": "mNmy44xfCxWY"
      },
      "source": [
        "5.2 - Acurácia usando o algoritmo 1 ?\n"
      ]
    },
    {
      "cell_type": "code",
      "metadata": {
        "id": "gK6q67i4I44t"
      },
      "source": [
        "from sklearn.model_selection import train_test_split\n",
        "x_train, x_test, y_train, y_test = train_test_split(x, y, test_size=0.3, random_state=40)"
      ],
      "execution_count": 13,
      "outputs": []
    },
    {
      "cell_type": "code",
      "metadata": {
        "id": "DSIOW_5pKp2_"
      },
      "source": [
        "from sklearn.linear_model import LogisticRegression\n",
        "from sklearn.metrics import accuracy_score, classification_report"
      ],
      "execution_count": 14,
      "outputs": []
    },
    {
      "cell_type": "code",
      "metadata": {
        "id": "VvAgNcVsCxWb",
        "colab": {
          "base_uri": "https://localhost:8080/"
        },
        "outputId": "791546f1-fc34-494a-f947-4f4f9333c2a2"
      },
      "source": [
        "logreg = LogisticRegression(solver='liblinear')\n",
        "logreg.fit(x_train, y_train)\n",
        "\n",
        "y_pred = logreg.predict(x_test)\n",
        "\n",
        "from sklearn import metrics\n",
        "\n",
        "print(f\"Acurácia 1: {round(accuracy_score(y_test, y_pred) * 100, 2)}%\")"
      ],
      "execution_count": 15,
      "outputs": [
        {
          "output_type": "stream",
          "name": "stdout",
          "text": [
            "Acurácia 1: 94.52%\n"
          ]
        }
      ]
    },
    {
      "cell_type": "markdown",
      "metadata": {
        "id": "3xUZm_JICxWa"
      },
      "source": [
        "5.3 - Acurácia usando o algoritmo 2 ?\n",
        "\n",
        "\n",
        "\n"
      ]
    },
    {
      "cell_type": "code",
      "metadata": {
        "id": "ts4ewQTkKhld"
      },
      "source": [
        "from sklearn.pipeline import make_pipeline\n",
        "from sklearn.preprocessing import StandardScaler\n",
        "from sklearn.ensemble import RandomForestClassifier"
      ],
      "execution_count": 16,
      "outputs": []
    },
    {
      "cell_type": "code",
      "metadata": {
        "id": "caGkCtYGCxWY",
        "colab": {
          "base_uri": "https://localhost:8080/"
        },
        "outputId": "d1f481f4-2638-44e3-9818-0649ba64c2d5"
      },
      "source": [
        "pipeline = make_pipeline(StandardScaler(), RandomForestClassifier())\n",
        "pipeline.fit(x_train, y_train)\n",
        "\n",
        "y_pred = pipeline.predict(x_test)\n",
        "\n",
        "print(f\"Acurácia 2: {round(accuracy_score(y_test, y_pred) * 100, 2)}%\")"
      ],
      "execution_count": 17,
      "outputs": [
        {
          "output_type": "stream",
          "name": "stdout",
          "text": [
            "Acurácia 2: 94.59%\n"
          ]
        }
      ]
    },
    {
      "cell_type": "markdown",
      "metadata": {
        "id": "8FkyIUHbCxWd"
      },
      "source": [
        "5.4 - De acordo com seus resultados anteriores, qual dos 2 algoritmos é mais eficiente?\n"
      ]
    },
    {
      "cell_type": "code",
      "metadata": {
        "id": "K0AE8XQ1CxWd"
      },
      "source": [
        "O 2º Algoritmo apresentou maior eficiência"
      ],
      "execution_count": null,
      "outputs": []
    },
    {
      "cell_type": "markdown",
      "metadata": {
        "id": "QIAfJToiy77F"
      },
      "source": [
        "# Questão 6 - valor (1,5)\n",
        "\n"
      ]
    },
    {
      "cell_type": "markdown",
      "metadata": {
        "id": "Is2wXGy3ySgF"
      },
      "source": [
        "6 - Faça um visualização auto-explicativa da sua base de dados utilizando o matplotlib. Coloque o código e a visualização abaixo.\n"
      ]
    },
    {
      "cell_type": "code",
      "metadata": {
        "id": "DdlmwhZlyi_7"
      },
      "source": [
        "import matplotlib.pyplot as plt\n",
        "import seaborn as sns"
      ],
      "execution_count": 21,
      "outputs": []
    },
    {
      "cell_type": "code",
      "metadata": {
        "colab": {
          "base_uri": "https://localhost:8080/",
          "height": 1000
        },
        "id": "o-o4V3P0z20r",
        "outputId": "1f71c77c-80b1-43e7-ce91-65ba96e78ef3"
      },
      "source": [
        "dataset_categorical=df_dataset[['gender', 'hypertension', 'heart_disease', 'ever_married','work_type', 'Residence_type', \n",
        "                       'smoking_status']]\n",
        "                       \n",
        "fig=plt.figure(figsize=(20,25))\n",
        "fig.patch.set_facecolor(background_color) \n",
        "for indx,val in enumerate(dataset_categorical.columns):\n",
        "    ax=plt.subplot(4,2,indx+1)\n",
        "    ax.set_title(val,fontweight='heavy',fontfamily='sans-serif')\n",
        "    for i in ['top','right']:\n",
        "        ax.spines[i].set_visible(False)\n",
        "    sns.countplot(dataset_categorical[val],palette='OrRd_r',hue=df_dataset['stroke'])"
      ],
      "execution_count": 62,
      "outputs": [
        {
          "output_type": "stream",
          "name": "stderr",
          "text": [
            "/usr/local/lib/python3.7/dist-packages/seaborn/_decorators.py:43: FutureWarning: Pass the following variable as a keyword arg: x. From version 0.12, the only valid positional argument will be `data`, and passing other arguments without an explicit keyword will result in an error or misinterpretation.\n",
            "  FutureWarning\n",
            "/usr/local/lib/python3.7/dist-packages/seaborn/_decorators.py:43: FutureWarning: Pass the following variable as a keyword arg: x. From version 0.12, the only valid positional argument will be `data`, and passing other arguments without an explicit keyword will result in an error or misinterpretation.\n",
            "  FutureWarning\n",
            "/usr/local/lib/python3.7/dist-packages/seaborn/_decorators.py:43: FutureWarning: Pass the following variable as a keyword arg: x. From version 0.12, the only valid positional argument will be `data`, and passing other arguments without an explicit keyword will result in an error or misinterpretation.\n",
            "  FutureWarning\n",
            "/usr/local/lib/python3.7/dist-packages/seaborn/_decorators.py:43: FutureWarning: Pass the following variable as a keyword arg: x. From version 0.12, the only valid positional argument will be `data`, and passing other arguments without an explicit keyword will result in an error or misinterpretation.\n",
            "  FutureWarning\n",
            "/usr/local/lib/python3.7/dist-packages/seaborn/_decorators.py:43: FutureWarning: Pass the following variable as a keyword arg: x. From version 0.12, the only valid positional argument will be `data`, and passing other arguments without an explicit keyword will result in an error or misinterpretation.\n",
            "  FutureWarning\n",
            "/usr/local/lib/python3.7/dist-packages/seaborn/_decorators.py:43: FutureWarning: Pass the following variable as a keyword arg: x. From version 0.12, the only valid positional argument will be `data`, and passing other arguments without an explicit keyword will result in an error or misinterpretation.\n",
            "  FutureWarning\n",
            "/usr/local/lib/python3.7/dist-packages/seaborn/_decorators.py:43: FutureWarning: Pass the following variable as a keyword arg: x. From version 0.12, the only valid positional argument will be `data`, and passing other arguments without an explicit keyword will result in an error or misinterpretation.\n",
            "  FutureWarning\n"
          ]
        },
        {
          "output_type": "display_data",
          "data": {
            "image/png": "[encoded data removed]",
            "text/plain": [
              "<Figure size 1440x1800 with 7 Axes>"
            ]
          },
          "metadata": {}
        }
      ]
    },
    {
      "cell_type": "code",
      "metadata": {
        "id": "zRDUIRloCxWf"
      },
      "source": [
        "*** Envie o link do seu Github com essa resposta no Classroom\n"
      ],
      "execution_count": null,
      "outputs": []
    }
  ]
}